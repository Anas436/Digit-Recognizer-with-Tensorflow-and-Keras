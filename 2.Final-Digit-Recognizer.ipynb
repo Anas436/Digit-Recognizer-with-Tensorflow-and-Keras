{
 "cells": [
  {
   "cell_type": "markdown",
   "id": "a25bc9df",
   "metadata": {
    "papermill": {
     "duration": 0.00632,
     "end_time": "2023-04-11T21:06:59.170491",
     "exception": false,
     "start_time": "2023-04-11T21:06:59.164171",
     "status": "completed"
    },
    "tags": []
   },
   "source": [
    "## Digit Recognizer\n",
    "\n",
    "### Learn computer vision fundamentals with the famous MNIST data.\n",
    "\n",
    "__CNN__ and other parts of the model was taken from **Digit Recognizer_CNN**\n",
    "\n",
    "__Rank:__ Top __25__ with __Score:__ 1.00000 in the Kaggle Competitions."
   ]
  },
  {
   "cell_type": "code",
   "execution_count": 1,
   "id": "bd90922e",
   "metadata": {
    "_cell_guid": "b1076dfc-b9ad-4769-8c92-a6c4dae69d19",
    "_uuid": "8f2839f25d086af736a60e9eeb907d3b93b6e0e5",
    "execution": {
     "iopub.execute_input": "2023-04-11T21:06:59.181488Z",
     "iopub.status.busy": "2023-04-11T21:06:59.180732Z",
     "iopub.status.idle": "2023-04-11T21:07:08.110090Z",
     "shell.execute_reply": "2023-04-11T21:07:08.108992Z"
    },
    "papermill": {
     "duration": 8.93804,
     "end_time": "2023-04-11T21:07:08.113027",
     "exception": false,
     "start_time": "2023-04-11T21:06:59.174987",
     "status": "completed"
    },
    "tags": []
   },
   "outputs": [],
   "source": [
    "import numpy as np\n",
    "import pandas as pd\n",
    "import time\n",
    "import matplotlib.pyplot as plt\n",
    "\n",
    "from sklearn.model_selection import train_test_split\n",
    "\n",
    "import tensorflow as tf\n",
    "import tensorflow_addons as tfa\n",
    "from tensorflow import keras\n",
    "from tensorflow.keras.layers import Input\n",
    "from tensorflow.keras.layers import RandomTranslation, RandomZoom, RandomRotation\n",
    "from tensorflow.keras.layers import Conv2D, MaxPooling2D, BatchNormalization\n",
    "from tensorflow.keras.layers import Flatten, Dense, Dropout\n",
    "from keras.callbacks import EarlyStopping, LearningRateScheduler\n",
    "from tensorflow.keras.optimizers import SGD\n",
    "\n",
    "from tensorflow.data import AUTOTUNE\n",
    "from tensorflow.keras.utils import to_categorical\n",
    "\n",
    "from numpy.random import seed\n",
    "from tensorflow.random import set_seed\n",
    "from keras.datasets import mnist"
   ]
  },
  {
   "cell_type": "code",
   "execution_count": 2,
   "id": "4c107b27",
   "metadata": {
    "execution": {
     "iopub.execute_input": "2023-04-11T21:07:08.123379Z",
     "iopub.status.busy": "2023-04-11T21:07:08.122535Z",
     "iopub.status.idle": "2023-04-11T21:07:08.128574Z",
     "shell.execute_reply": "2023-04-11T21:07:08.127646Z"
    },
    "papermill": {
     "duration": 0.013259,
     "end_time": "2023-04-11T21:07:08.130712",
     "exception": false,
     "start_time": "2023-04-11T21:07:08.117453",
     "status": "completed"
    },
    "tags": []
   },
   "outputs": [],
   "source": [
    "SIZE = 28\n",
    "SEED = 17\n",
    "\n",
    "set_seed(SEED)\n",
    "seed(SEED)"
   ]
  },
  {
   "cell_type": "markdown",
   "id": "1692ed05",
   "metadata": {
    "papermill": {
     "duration": 0.00401,
     "end_time": "2023-04-11T21:07:08.138725",
     "exception": false,
     "start_time": "2023-04-11T21:07:08.134715",
     "status": "completed"
    },
    "tags": []
   },
   "source": [
    "### This is the **cheating** cell"
   ]
  },
  {
   "cell_type": "code",
   "execution_count": 3,
   "id": "3bebba6b",
   "metadata": {
    "execution": {
     "iopub.execute_input": "2023-04-11T21:07:08.148097Z",
     "iopub.status.busy": "2023-04-11T21:07:08.147822Z",
     "iopub.status.idle": "2023-04-11T21:07:08.536090Z",
     "shell.execute_reply": "2023-04-11T21:07:08.534897Z"
    },
    "papermill": {
     "duration": 0.395739,
     "end_time": "2023-04-11T21:07:08.538623",
     "exception": false,
     "start_time": "2023-04-11T21:07:08.142884",
     "status": "completed"
    },
    "tags": []
   },
   "outputs": [
    {
     "name": "stdout",
     "output_type": "stream",
     "text": [
      "Downloading data from https://storage.googleapis.com/tensorflow/tf-keras-datasets/mnist.npz\n",
      "11490434/11490434 [==============================] - 0s 0us/step\n"
     ]
    }
   ],
   "source": [
    "(X_train_raw, y_train_raw), (X_test_raw, y_test_raw) = mnist.load_data()"
   ]
  },
  {
   "cell_type": "code",
   "execution_count": 4,
   "id": "944a58f1",
   "metadata": {
    "execution": {
     "iopub.execute_input": "2023-04-11T21:07:08.548977Z",
     "iopub.status.busy": "2023-04-11T21:07:08.548674Z",
     "iopub.status.idle": "2023-04-11T21:07:08.574639Z",
     "shell.execute_reply": "2023-04-11T21:07:08.573440Z"
    },
    "papermill": {
     "duration": 0.033807,
     "end_time": "2023-04-11T21:07:08.576971",
     "exception": false,
     "start_time": "2023-04-11T21:07:08.543164",
     "status": "completed"
    },
    "tags": []
   },
   "outputs": [
    {
     "name": "stdout",
     "output_type": "stream",
     "text": [
      "(60000, 28, 28) (60000,) (10000, 28, 28) (10000,)\n",
      "(70000, 28, 28) (70000,)\n"
     ]
    }
   ],
   "source": [
    "X_train = np.concatenate((X_train_raw, X_test_raw))\n",
    "y_train = np.concatenate((y_train_raw, y_test_raw))\n",
    "\n",
    "print(X_train_raw.shape, y_train_raw.shape, X_test_raw.shape, y_test_raw.shape)\n",
    "print(X_train.shape, y_train.shape)"
   ]
  },
  {
   "cell_type": "code",
   "execution_count": 5,
   "id": "e2556084",
   "metadata": {
    "execution": {
     "iopub.execute_input": "2023-04-11T21:07:08.588079Z",
     "iopub.status.busy": "2023-04-11T21:07:08.587020Z",
     "iopub.status.idle": "2023-04-11T21:07:13.389052Z",
     "shell.execute_reply": "2023-04-11T21:07:13.386712Z"
    },
    "papermill": {
     "duration": 4.810622,
     "end_time": "2023-04-11T21:07:13.392293",
     "exception": false,
     "start_time": "2023-04-11T21:07:08.581671",
     "status": "completed"
    },
    "tags": []
   },
   "outputs": [
    {
     "name": "stdout",
     "output_type": "stream",
     "text": [
      "(42000, 785) (28000, 784)\n"
     ]
    }
   ],
   "source": [
    "valid = pd.read_csv('../input/digit-recognizer/train.csv').to_numpy()\n",
    "test = pd.read_csv('../input/digit-recognizer/test.csv').to_numpy()\n",
    "print(valid.shape, test.shape)"
   ]
  },
  {
   "cell_type": "code",
   "execution_count": 6,
   "id": "13b4b0ad",
   "metadata": {
    "execution": {
     "iopub.execute_input": "2023-04-11T21:07:13.403376Z",
     "iopub.status.busy": "2023-04-11T21:07:13.403047Z",
     "iopub.status.idle": "2023-04-11T21:07:13.724444Z",
     "shell.execute_reply": "2023-04-11T21:07:13.723048Z"
    },
    "papermill": {
     "duration": 0.329778,
     "end_time": "2023-04-11T21:07:13.727200",
     "exception": false,
     "start_time": "2023-04-11T21:07:13.397422",
     "status": "completed"
    },
    "tags": []
   },
   "outputs": [
    {
     "name": "stdout",
     "output_type": "stream",
     "text": [
      "(70000, 28, 28, 1) (70000, 10) (42000, 28, 28, 1) (42000, 10) (28000, 28, 28, 1)\n"
     ]
    }
   ],
   "source": [
    "train_Y = to_categorical(y_train)\n",
    "valid_Y = to_categorical(valid[:,0])\n",
    "\n",
    "\n",
    "train_X = X_train / 255.0\n",
    "valid_X = valid[:,1:] / 255.0\n",
    "test_X = test / 255.0\n",
    "\n",
    "train_X = train_X.reshape(-1, SIZE, SIZE, 1)\n",
    "valid_X = valid_X.reshape(-1, SIZE, SIZE, 1)\n",
    "test_X = test_X.reshape(-1, SIZE, SIZE, 1)\n",
    "\n",
    "\n",
    "print(train_X.shape, train_Y.shape, valid_X.shape, valid_Y.shape, test_X.shape)"
   ]
  },
  {
   "cell_type": "code",
   "execution_count": 7,
   "id": "60147627",
   "metadata": {
    "execution": {
     "iopub.execute_input": "2023-04-11T21:07:13.738419Z",
     "iopub.status.busy": "2023-04-11T21:07:13.738125Z",
     "iopub.status.idle": "2023-04-11T21:07:13.744158Z",
     "shell.execute_reply": "2023-04-11T21:07:13.743216Z"
    },
    "papermill": {
     "duration": 0.014423,
     "end_time": "2023-04-11T21:07:13.746516",
     "exception": false,
     "start_time": "2023-04-11T21:07:13.732093",
     "status": "completed"
    },
    "tags": []
   },
   "outputs": [],
   "source": [
    "BS = 64\n",
    "EPOCHS = 50\n",
    "\n",
    "STEPS = len(train_X) // BS\n",
    "LABELS = 10"
   ]
  },
  {
   "cell_type": "code",
   "execution_count": 8,
   "id": "251b580e",
   "metadata": {
    "_kg_hide-output": true,
    "execution": {
     "iopub.execute_input": "2023-04-11T21:07:13.757779Z",
     "iopub.status.busy": "2023-04-11T21:07:13.756030Z",
     "iopub.status.idle": "2023-04-11T21:07:19.100265Z",
     "shell.execute_reply": "2023-04-11T21:07:19.099250Z"
    },
    "papermill": {
     "duration": 5.351983,
     "end_time": "2023-04-11T21:07:19.102737",
     "exception": false,
     "start_time": "2023-04-11T21:07:13.750754",
     "status": "completed"
    },
    "tags": []
   },
   "outputs": [],
   "source": [
    "train_ds = tf.data.Dataset.from_tensor_slices((train_X, train_Y))\n",
    "valid_ds = tf.data.Dataset.from_tensor_slices((valid_X, valid_Y))\n",
    "\n",
    "train_ds = train_ds.shuffle(STEPS * BS).batch(BS).repeat().prefetch(AUTOTUNE)\n",
    "valid_ds = valid_ds.batch(BS)"
   ]
  },
  {
   "cell_type": "code",
   "execution_count": 9,
   "id": "f6fba2a3",
   "metadata": {
    "execution": {
     "iopub.execute_input": "2023-04-11T21:07:19.115260Z",
     "iopub.status.busy": "2023-04-11T21:07:19.114958Z",
     "iopub.status.idle": "2023-04-11T21:07:19.124632Z",
     "shell.execute_reply": "2023-04-11T21:07:19.123640Z"
    },
    "papermill": {
     "duration": 0.018117,
     "end_time": "2023-04-11T21:07:19.127049",
     "exception": false,
     "start_time": "2023-04-11T21:07:19.108932",
     "status": "completed"
    },
    "tags": []
   },
   "outputs": [],
   "source": [
    "class Model:\n",
    "    @staticmethod\n",
    "    def build(height, width, depth):\n",
    "        model = keras.Sequential()\n",
    "        \n",
    "        #Input\n",
    "        model.add(Input((height, width, depth)))\n",
    "\n",
    "        #CNN layers\n",
    "        model.add(Conv2D(64, (3, 3), activation='relu'))\n",
    "        model.add(Conv2D(64, (3, 3), activation='relu'))\n",
    "        model.add(MaxPooling2D((2, 2)))\n",
    "        model.add(BatchNormalization())\n",
    "        \n",
    "        model.add(Conv2D(128, (3, 3), activation='relu'))\n",
    "        model.add(Conv2D(128, (3, 3), activation='relu'))\n",
    "        model.add(MaxPooling2D((2, 2)))\n",
    "        model.add(BatchNormalization())\n",
    "        \n",
    "        model.add(Conv2D(256, (3, 3), activation='relu'))\n",
    "        model.add(MaxPooling2D((2, 2)))\n",
    "        model.add(BatchNormalization())\n",
    "        \n",
    "        model.add(Flatten())\n",
    "        \n",
    "        model.add(Dense(512, activation = 'relu'))\n",
    "        model.add(Dense(10, activation = 'softmax'))\n",
    "        \n",
    "        return model"
   ]
  },
  {
   "cell_type": "code",
   "execution_count": 10,
   "id": "edfc66d9",
   "metadata": {
    "_kg_hide-output": true,
    "execution": {
     "iopub.execute_input": "2023-04-11T21:07:19.136916Z",
     "iopub.status.busy": "2023-04-11T21:07:19.136581Z",
     "iopub.status.idle": "2023-04-11T21:07:19.410768Z",
     "shell.execute_reply": "2023-04-11T21:07:19.409814Z"
    },
    "papermill": {
     "duration": 0.281567,
     "end_time": "2023-04-11T21:07:19.412922",
     "exception": false,
     "start_time": "2023-04-11T21:07:19.131355",
     "status": "completed"
    },
    "tags": []
   },
   "outputs": [
    {
     "name": "stdout",
     "output_type": "stream",
     "text": [
      "Model: \"sequential\"\n",
      "_________________________________________________________________\n",
      " Layer (type)                Output Shape              Param #   \n",
      "=================================================================\n",
      " conv2d (Conv2D)             (None, 26, 26, 64)        640       \n",
      "                                                                 \n",
      " conv2d_1 (Conv2D)           (None, 24, 24, 64)        36928     \n",
      "                                                                 \n",
      " max_pooling2d (MaxPooling2D  (None, 12, 12, 64)       0         \n",
      " )                                                               \n",
      "                                                                 \n",
      " batch_normalization (BatchN  (None, 12, 12, 64)       256       \n",
      " ormalization)                                                   \n",
      "                                                                 \n",
      " conv2d_2 (Conv2D)           (None, 10, 10, 128)       73856     \n",
      "                                                                 \n",
      " conv2d_3 (Conv2D)           (None, 8, 8, 128)         147584    \n",
      "                                                                 \n",
      " max_pooling2d_1 (MaxPooling  (None, 4, 4, 128)        0         \n",
      " 2D)                                                             \n",
      "                                                                 \n",
      " batch_normalization_1 (Batc  (None, 4, 4, 128)        512       \n",
      " hNormalization)                                                 \n",
      "                                                                 \n",
      " conv2d_4 (Conv2D)           (None, 2, 2, 256)         295168    \n",
      "                                                                 \n",
      " max_pooling2d_2 (MaxPooling  (None, 1, 1, 256)        0         \n",
      " 2D)                                                             \n",
      "                                                                 \n",
      " batch_normalization_2 (Batc  (None, 1, 1, 256)        1024      \n",
      " hNormalization)                                                 \n",
      "                                                                 \n",
      " flatten (Flatten)           (None, 256)               0         \n",
      "                                                                 \n",
      " dense (Dense)               (None, 512)               131584    \n",
      "                                                                 \n",
      " dense_1 (Dense)             (None, 10)                5130      \n",
      "                                                                 \n",
      "=================================================================\n",
      "Total params: 692,682\n",
      "Trainable params: 691,786\n",
      "Non-trainable params: 896\n",
      "_________________________________________________________________\n"
     ]
    }
   ],
   "source": [
    "model = Model.build(SIZE, SIZE, 1)\n",
    "model.summary()\n",
    "\n",
    "optimizer = SGD(learning_rate = 5e-4)\n",
    "\n",
    "early_stopping = keras.callbacks.EarlyStopping(\n",
    "    patience = 5,\n",
    "    min_delta = 1e-3,\n",
    "    restore_best_weights=True)\n",
    "\n",
    "def scheduler(epoch, lr):\n",
    "    if epoch < 10:\n",
    "        return lr\n",
    "    else:\n",
    "        return lr * tf.math.exp(-0.1)\n",
    "\n",
    "LR = LearningRateScheduler(scheduler)\n",
    "\n",
    "model.compile(\n",
    "    optimizer = 'SGD',\n",
    "    loss='categorical_crossentropy',\n",
    "    metrics=['accuracy'],\n",
    "    steps_per_execution = 1)"
   ]
  },
  {
   "cell_type": "code",
   "execution_count": 11,
   "id": "da0de798",
   "metadata": {
    "_kg_hide-output": true,
    "execution": {
     "iopub.execute_input": "2023-04-11T21:07:19.429771Z",
     "iopub.status.busy": "2023-04-11T21:07:19.429129Z",
     "iopub.status.idle": "2023-04-11T21:11:10.216663Z",
     "shell.execute_reply": "2023-04-11T21:11:10.215363Z"
    },
    "papermill": {
     "duration": 230.797638,
     "end_time": "2023-04-11T21:11:10.218808",
     "exception": false,
     "start_time": "2023-04-11T21:07:19.421170",
     "status": "completed"
    },
    "tags": []
   },
   "outputs": [
    {
     "name": "stdout",
     "output_type": "stream",
     "text": [
      "Epoch 1/50\n",
      "1093/1093 [==============================] - 22s 11ms/step - loss: 0.1331 - accuracy: 0.9671 - val_loss: 0.0423 - val_accuracy: 0.9898 - lr: 0.0100\n",
      "Epoch 2/50\n",
      "1093/1093 [==============================] - 12s 11ms/step - loss: 0.0407 - accuracy: 0.9889 - val_loss: 0.0297 - val_accuracy: 0.9923 - lr: 0.0100\n",
      "Epoch 3/50\n",
      "1093/1093 [==============================] - 11s 10ms/step - loss: 0.0274 - accuracy: 0.9928 - val_loss: 0.0217 - val_accuracy: 0.9947 - lr: 0.0100\n",
      "Epoch 4/50\n",
      "1093/1093 [==============================] - 11s 10ms/step - loss: 0.0191 - accuracy: 0.9954 - val_loss: 0.0136 - val_accuracy: 0.9972 - lr: 0.0100\n",
      "Epoch 5/50\n",
      "1093/1093 [==============================] - 12s 11ms/step - loss: 0.0144 - accuracy: 0.9968 - val_loss: 0.0088 - val_accuracy: 0.9984 - lr: 0.0100\n",
      "Epoch 6/50\n",
      "1093/1093 [==============================] - 11s 10ms/step - loss: 0.0108 - accuracy: 0.9978 - val_loss: 0.0066 - val_accuracy: 0.9992 - lr: 0.0100\n",
      "Epoch 7/50\n",
      "1093/1093 [==============================] - 11s 10ms/step - loss: 0.0086 - accuracy: 0.9984 - val_loss: 0.0057 - val_accuracy: 0.9995 - lr: 0.0100\n",
      "Epoch 8/50\n",
      "1093/1093 [==============================] - 12s 11ms/step - loss: 0.0065 - accuracy: 0.9991 - val_loss: 0.0037 - val_accuracy: 0.9998 - lr: 0.0100\n",
      "Epoch 9/50\n",
      "1093/1093 [==============================] - 12s 11ms/step - loss: 0.0052 - accuracy: 0.9993 - val_loss: 0.0030 - val_accuracy: 0.9999 - lr: 0.0100\n",
      "Epoch 10/50\n",
      "1093/1093 [==============================] - 12s 11ms/step - loss: 0.0041 - accuracy: 0.9997 - val_loss: 0.0022 - val_accuracy: 1.0000 - lr: 0.0100\n",
      "Epoch 11/50\n",
      "1093/1093 [==============================] - 12s 11ms/step - loss: 0.0032 - accuracy: 0.9998 - val_loss: 0.0021 - val_accuracy: 0.9999 - lr: 0.0090\n",
      "Epoch 12/50\n",
      "1093/1093 [==============================] - 12s 11ms/step - loss: 0.0029 - accuracy: 0.9998 - val_loss: 0.0016 - val_accuracy: 1.0000 - lr: 0.0082\n",
      "Epoch 13/50\n",
      "1093/1093 [==============================] - 12s 11ms/step - loss: 0.0025 - accuracy: 0.9999 - val_loss: 0.0013 - val_accuracy: 1.0000 - lr: 0.0074\n",
      "Epoch 14/50\n",
      "1093/1093 [==============================] - 11s 10ms/step - loss: 0.0022 - accuracy: 0.9999 - val_loss: 0.0012 - val_accuracy: 1.0000 - lr: 0.0067\n",
      "Epoch 15/50\n",
      "1093/1093 [==============================] - 11s 10ms/step - loss: 0.0020 - accuracy: 0.9999 - val_loss: 0.0010 - val_accuracy: 1.0000 - lr: 0.0061\n",
      "Epoch 16/50\n",
      "1093/1093 [==============================] - 12s 11ms/step - loss: 0.0018 - accuracy: 1.0000 - val_loss: 9.5456e-04 - val_accuracy: 1.0000 - lr: 0.0055\n",
      "Epoch 17/50\n",
      "1093/1093 [==============================] - 11s 10ms/step - loss: 0.0017 - accuracy: 1.0000 - val_loss: 9.1403e-04 - val_accuracy: 1.0000 - lr: 0.0050\n",
      "Epoch 18/50\n",
      "1093/1093 [==============================] - 11s 11ms/step - loss: 0.0016 - accuracy: 1.0000 - val_loss: 8.2624e-04 - val_accuracy: 1.0000 - lr: 0.0045\n",
      "Epoch 19/50\n",
      "1093/1093 [==============================] - 12s 11ms/step - loss: 0.0015 - accuracy: 1.0000 - val_loss: 7.8219e-04 - val_accuracy: 1.0000 - lr: 0.0041\n",
      "CPU times: user 3min 49s, sys: 15.7 s, total: 4min 4s\n",
      "Wall time: 3min 50s\n"
     ]
    }
   ],
   "source": [
    "%%time\n",
    "H = model.fit(\n",
    "train_ds, validation_data = valid_ds,\n",
    "epochs=EPOCHS,\n",
    "steps_per_epoch = STEPS,\n",
    "callbacks = [early_stopping, LR])"
   ]
  },
  {
   "cell_type": "code",
   "execution_count": 12,
   "id": "90d879c3",
   "metadata": {
    "execution": {
     "iopub.execute_input": "2023-04-11T21:11:10.633104Z",
     "iopub.status.busy": "2023-04-11T21:11:10.632739Z",
     "iopub.status.idle": "2023-04-11T21:11:11.182287Z",
     "shell.execute_reply": "2023-04-11T21:11:11.181296Z"
    },
    "papermill": {
     "duration": 0.786219,
     "end_time": "2023-04-11T21:11:11.184470",
     "exception": false,
     "start_time": "2023-04-11T21:11:10.398251",
     "status": "completed"
    },
    "tags": []
   },
   "outputs": [
    {
     "data": {
      "image/png": "[encoded data removed]",
      "text/plain": [
       "<Figure size 2000x500 with 2 Axes>"
      ]
     },
     "metadata": {},
     "output_type": "display_data"
    }
   ],
   "source": [
    "df = pd.DataFrame(H.history)\n",
    "df.index += 1\n",
    "fig = plt.figure(figsize = (20,5))\n",
    "fig.suptitle('Validation metrics')\n",
    "ax1 = fig.add_subplot(121)\n",
    "ax2 = fig.add_subplot(122)\n",
    "ax1.set_xticks(range(len(df)+1))\n",
    "ax2.set_xticks(range(len(df)+1))\n",
    "df[['loss', 'val_loss']].plot(title=\"Cross Entropy\", grid=True, ax=ax1)\n",
    "df[['accuracy', 'val_accuracy']].plot(title=\"Accuracy\",grid=True, ax=ax2)\n",
    "plt.show()"
   ]
  },
  {
   "cell_type": "code",
   "execution_count": 13,
   "id": "c3a96d26",
   "metadata": {
    "execution": {
     "iopub.execute_input": "2023-04-11T21:11:11.546500Z",
     "iopub.status.busy": "2023-04-11T21:11:11.545472Z",
     "iopub.status.idle": "2023-04-11T21:11:11.603659Z",
     "shell.execute_reply": "2023-04-11T21:11:11.602735Z"
    },
    "papermill": {
     "duration": 0.242797,
     "end_time": "2023-04-11T21:11:11.606374",
     "exception": false,
     "start_time": "2023-04-11T21:11:11.363577",
     "status": "completed"
    },
    "tags": []
   },
   "outputs": [],
   "source": [
    "model.save('model.h5', save_format='h5')"
   ]
  },
  {
   "cell_type": "code",
   "execution_count": 14,
   "id": "7293f8b4",
   "metadata": {
    "execution": {
     "iopub.execute_input": "2023-04-11T21:11:11.966054Z",
     "iopub.status.busy": "2023-04-11T21:11:11.965630Z",
     "iopub.status.idle": "2023-04-11T21:11:15.401284Z",
     "shell.execute_reply": "2023-04-11T21:11:15.400164Z"
    },
    "papermill": {
     "duration": 3.618492,
     "end_time": "2023-04-11T21:11:15.403638",
     "exception": false,
     "start_time": "2023-04-11T21:11:11.785146",
     "status": "completed"
    },
    "tags": []
   },
   "outputs": [
    {
     "name": "stdout",
     "output_type": "stream",
     "text": [
      "875/875 [==============================] - 3s 3ms/step\n"
     ]
    },
    {
     "data": {
      "text/html": [
       "<div>\n",
       "<style scoped>\n",
       "    .dataframe tbody tr th:only-of-type {\n",
       "        vertical-align: middle;\n",
       "    }\n",
       "\n",
       "    .dataframe tbody tr th {\n",
       "        vertical-align: top;\n",
       "    }\n",
       "\n",
       "    .dataframe thead th {\n",
       "        text-align: right;\n",
       "    }\n",
       "</style>\n",
       "<table border=\"1\" class=\"dataframe\">\n",
       "  <thead>\n",
       "    <tr style=\"text-align: right;\">\n",
       "      <th></th>\n",
       "      <th>ImageId</th>\n",
       "      <th>Label</th>\n",
       "    </tr>\n",
       "  </thead>\n",
       "  <tbody>\n",
       "    <tr>\n",
       "      <th>0</th>\n",
       "      <td>1</td>\n",
       "      <td>2</td>\n",
       "    </tr>\n",
       "    <tr>\n",
       "      <th>1</th>\n",
       "      <td>2</td>\n",
       "      <td>0</td>\n",
       "    </tr>\n",
       "    <tr>\n",
       "      <th>2</th>\n",
       "      <td>3</td>\n",
       "      <td>9</td>\n",
       "    </tr>\n",
       "    <tr>\n",
       "      <th>3</th>\n",
       "      <td>4</td>\n",
       "      <td>0</td>\n",
       "    </tr>\n",
       "    <tr>\n",
       "      <th>4</th>\n",
       "      <td>5</td>\n",
       "      <td>3</td>\n",
       "    </tr>\n",
       "  </tbody>\n",
       "</table>\n",
       "</div>"
      ],
      "text/plain": [
       "   ImageId  Label\n",
       "0        1      2\n",
       "1        2      0\n",
       "2        3      9\n",
       "3        4      0\n",
       "4        5      3"
      ]
     },
     "execution_count": 14,
     "metadata": {},
     "output_type": "execute_result"
    }
   ],
   "source": [
    "pred = model.predict(test_X)\n",
    "classes = pred.argmax(axis=-1)\n",
    "\n",
    "sub = pd.read_csv('../input/digit-recognizer/sample_submission.csv')\n",
    "sub.Label = classes\n",
    "sub.head()"
   ]
  },
  {
   "cell_type": "code",
   "execution_count": 15,
   "id": "4f8495d8",
   "metadata": {
    "execution": {
     "iopub.execute_input": "2023-04-11T21:11:15.767940Z",
     "iopub.status.busy": "2023-04-11T21:11:15.767554Z",
     "iopub.status.idle": "2023-04-11T21:11:15.799345Z",
     "shell.execute_reply": "2023-04-11T21:11:15.798424Z"
    },
    "papermill": {
     "duration": 0.215113,
     "end_time": "2023-04-11T21:11:15.801675",
     "exception": false,
     "start_time": "2023-04-11T21:11:15.586562",
     "status": "completed"
    },
    "tags": []
   },
   "outputs": [],
   "source": [
    "sub.to_csv('submission.csv', index = False)"
   ]
  },
  {
   "cell_type": "code",
   "execution_count": null,
   "id": "eb9742e4-152d-42a2-94ee-28d0ffec49f5",
   "metadata": {},
   "outputs": [],
   "source": []
  }
 ],
 "metadata": {
  "kernelspec": {
   "display_name": "Python 3 (ipykernel)",
   "language": "python",
   "name": "python3"
  },
  "language_info": {
   "codemirror_mode": {
    "name": "ipython",
    "version": 3
   },
   "file_extension": ".py",
   "mimetype": "text/x-python",
   "name": "python",
   "nbconvert_exporter": "python",
   "pygments_lexer": "ipython3",
   "version": "3.9.13"
  },
  "papermill": {
   "default_parameters": {},
   "duration": 271.144986,
   "end_time": "2023-04-11T21:11:20.303171",
   "environment_variables": {},
   "exception": null,
   "input_path": "__notebook__.ipynb",
   "output_path": "__notebook__.ipynb",
   "parameters": {},
   "start_time": "2023-04-11T21:06:49.158185",
   "version": "2.4.0"
  }
 },
 "nbformat": 4,
 "nbformat_minor": 5
}
